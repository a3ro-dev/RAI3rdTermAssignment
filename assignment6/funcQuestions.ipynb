{
 "cells": [
  {
   "cell_type": "markdown",
   "metadata": {},
   "source": [
    "### Python Functions\n",
    "\n",
    "Functions in Python are reusable blocks of code defined using the `def` keyword. They can take parameters and return values using the `return` statement. Python also supports anonymous functions using the `lambda` keyword.\n"
   ]
  },
  {
   "cell_type": "code",
   "execution_count": 1,
   "metadata": {},
   "outputs": [
    {
     "name": "stdout",
     "output_type": "stream",
     "text": [
      "Addition of 2 and 3 is 5\n",
      "Addition of 5 and 7 is 12\n"
     ]
    }
   ],
   "source": [
    "\"1. Write a Python function named add_numbers that takes two arguments, a and b, and returns their sum.\"\n",
    "def add_numbers(a, b):\n",
    "    return a + b\n",
    "print(f\"Addition of 2 and 3 is {add_numbers(2, 3)}\")\n",
    "print(f\"Addition of 5 and 7 is {add_numbers(5, 7)}\")"
   ]
  },
  {
   "cell_type": "code",
   "execution_count": 2,
   "metadata": {},
   "outputs": [
    {
     "name": "stdout",
     "output_type": "stream",
     "text": [
      "Area of rectangle with length 5 and width 3 is 15\n",
      "Area of rectangle with length 7 and width 4 is 28\n"
     ]
    }
   ],
   "source": [
    "\"2. Write a function calculate_area that calculates the area of a rectangle. It should take two parameters: length and width. Use keyword arguments when calling the function.\"\n",
    "def calculate_area(length, width):\n",
    "    return length * width\n",
    "print(f\"Area of rectangle with length 5 and width 3 is {calculate_area(5, 3)}\")\n",
    "print(f\"Area of rectangle with length 7 and width 4 is {calculate_area(7, 4)}\")"
   ]
  },
  {
   "cell_type": "code",
   "execution_count": 3,
   "metadata": {},
   "outputs": [
    {
     "name": "stdout",
     "output_type": "stream",
     "text": [
      "Is 5 prime? True\n",
      "Is 10 prime? False\n"
     ]
    }
   ],
   "source": [
    "\"3. Write a function is_prime that takes an integer as input and returns True if the number is prime, otherwise returns False.\"\n",
    "def is_prime(n):\n",
    "    if n < 2:\n",
    "        return False\n",
    "    for i in range(2, n):\n",
    "        if n % i == 0:\n",
    "            return False\n",
    "    return True\n",
    "print(f\"Is 5 prime? {is_prime(5)}\")\n",
    "print(f\"Is 10 prime? {is_prime(10)}\")"
   ]
  },
  {
   "cell_type": "code",
   "execution_count": 4,
   "metadata": {},
   "outputs": [
    {
     "name": "stdout",
     "output_type": "stream",
     "text": [
      "Square of [2, 3, 4] is [4, 9, 16]\n",
      "Square of [5, 6, 7] is [25, 36, 49]\n"
     ]
    }
   ],
   "source": [
    "\"4. Write a function square_numbers that takes a list of numbers as input and returns a list containing the square of each number.\"\n",
    "def square_numbers(nums):\n",
    "    return [x*x for x in nums]\n",
    "print(f\"Square of [2, 3, 4] is {square_numbers([2, 3, 4])}\")\n",
    "print(f\"Square of [5, 6, 7] is {square_numbers([5, 6, 7])}\")"
   ]
  },
  {
   "cell_type": "code",
   "execution_count": 5,
   "metadata": {},
   "outputs": [
    {
     "name": "stdout",
     "output_type": "stream",
     "text": [
      "Is 'hello' palindrome? False\n",
      "Is 'madam' palindrome? True\n"
     ]
    }
   ],
   "source": [
    "\"5. Write a function is_palindrome that takes a string as input and returns True if the string is a palindrome.\"\n",
    "def is_palindrome(s):\n",
    "    return s == s[::-1]\n",
    "print(f\"Is 'hello' palindrome? {is_palindrome('hello')}\")\n",
    "print(f\"Is 'madam' palindrome? {is_palindrome('madam')}\")"
   ]
  },
  {
   "cell_type": "code",
   "execution_count": 6,
   "metadata": {},
   "outputs": [
    {
     "name": "stdout",
     "output_type": "stream",
     "text": [
      "Factorial of 5 is 120\n",
      "Factorial of 10 is 3628800\n"
     ]
    }
   ],
   "source": [
    "\"6. Write a function factorial that computes the factorial of a number using a for loop.\"\n",
    "def factorial(n):\n",
    "    f = 1\n",
    "    for i in range(1,n+1): f *= i\n",
    "    return f\n",
    "print(f\"Factorial of 5 is {factorial(5)}\")\n",
    "print(f\"Factorial of 10 is {factorial(10)}\")"
   ]
  },
  {
   "cell_type": "code",
   "execution_count": 7,
   "metadata": {},
   "outputs": [
    {
     "name": "stdout",
     "output_type": "stream",
     "text": [
      "First 10 Fibonacci numbers are:\n",
      "0 1 1 2 3 5 8 13 21 34 \n",
      "First 20 Fibonacci numbers are:\n",
      "0 1 1 2 3 5 8 13 21 34 55 89 144 233 377 610 987 1597 2584 4181 "
     ]
    }
   ],
   "source": [
    "\"7. Write a function fibonacci that takes a number n and prints the first n numbers in the Fibonacci sequence.\"\n",
    "def fibonacci(n):\n",
    "    a,b = 0,1\n",
    "    for _ in range(n): print(a, end=' '); a,b = b,a+b\n",
    "print(f\"First 10 Fibonacci numbers are:\")\n",
    "fibonacci(10); print()\n",
    "print(f\"First 20 Fibonacci numbers are:\")\n",
    "fibonacci(20)"
   ]
  },
  {
   "cell_type": "code",
   "execution_count": 8,
   "metadata": {},
   "outputs": [
    {
     "name": "stdout",
     "output_type": "stream",
     "text": [
      "Is 153 Armstrong number? True\n",
      "Is 192 Armstrong number? False\n"
     ]
    }
   ],
   "source": [
    "\"8. Write a function is_armstrong that takes a number and checks whether it is an Armstrong number.\"\n",
    "def is_armstrong(n):\n",
    "    return sum(int(d)**len(str(n)) for d in str(n)) == n\n",
    "print(f\"Is 153 Armstrong number? {is_armstrong(153)}\")\n",
    "print(f\"Is 192 Armstrong number? {is_armstrong(192)}\")"
   ]
  },
  {
   "cell_type": "code",
   "execution_count": 9,
   "metadata": {},
   "outputs": [
    {
     "name": "stdout",
     "output_type": "stream",
     "text": [
      "0°C is 32.0°F\n",
      "32°F is 0.0°C\n"
     ]
    }
   ],
   "source": [
    "\"9. Write a function convert_temperature that converts temperature between Celsius and Fahrenheit.\"\n",
    "def convert_temperature(temp, scale):\n",
    "    return temp*9/5+32 if scale=='C' else (temp-32)*5/9\n",
    "print(f\"0°C is {convert_temperature(0, 'C')}°F\")\n",
    "print(f\"32°F is {convert_temperature(32, 'F')}°C\")"
   ]
  },
  {
   "cell_type": "code",
   "execution_count": 10,
   "metadata": {},
   "outputs": [
    {
     "name": "stdout",
     "output_type": "stream",
     "text": [
      "Prime numbers between 10 and 20 are: [11, 13, 17, 19]\n",
      "Prime numbers between 100 and 200 are: [101, 103, 107, 109, 113, 127, 131, 137, 139, 149, 151, 157, 163, 167, 173, 179, 181, 191, 193, 197, 199]\n"
     ]
    }
   ],
   "source": [
    "\"10. Write a function prime_numbers_in_range that takes two integers start and end.\"\n",
    "def prime_numbers_in_range(start, end):\n",
    "    return [n for n in range(max(2,start), end+1) if all(n%i for i in range(2,n))]\n",
    "print(f\"Prime numbers between 10 and 20 are: {prime_numbers_in_range(10, 20)}\")\n",
    "print(f\"Prime numbers between 100 and 200 are: {prime_numbers_in_range(100, 200)}\")"
   ]
  }
 ],
 "metadata": {
  "kernelspec": {
   "display_name": "Python 3",
   "language": "python",
   "name": "python3"
  },
  "language_info": {
   "codemirror_mode": {
    "name": "ipython",
    "version": 3
   },
   "file_extension": ".py",
   "mimetype": "text/x-python",
   "name": "python",
   "nbconvert_exporter": "python",
   "pygments_lexer": "ipython3",
   "version": "3.13.0"
  }
 },
 "nbformat": 4,
 "nbformat_minor": 2
}
