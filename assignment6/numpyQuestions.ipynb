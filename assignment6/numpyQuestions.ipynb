{
 "cells": [
  {
   "cell_type": "markdown",
   "metadata": {},
   "source": [
    "### Numpy Questions\n",
    "\n",
    "**NumPy** is a powerful library for numerical computing in Python.  \n",
    "It provides support for `arrays`, `matrices`, and many mathematical functions to operate on these data structures efficiently.  \n",
    "It is widely used in *scientific computing*, *data analysis*, and *machine learning*."
   ]
  },
  {
   "cell_type": "code",
   "execution_count": 1,
   "metadata": {},
   "outputs": [],
   "source": [
    "import numpy as np\n",
    "\n",
    "list1 = [1, 2, 3]\n",
    "list2 = [4, 5, 6]\n",
    "list3 = [7, 8, 9]"
   ]
  },
  {
   "cell_type": "code",
   "execution_count": 2,
   "metadata": {},
   "outputs": [
    {
     "data": {
      "text/plain": [
       "array([[1, 2, 3],\n",
       "       [4, 5, 6],\n",
       "       [7, 8, 9]])"
      ]
     },
     "execution_count": 2,
     "metadata": {},
     "output_type": "execute_result"
    }
   ],
   "source": [
    "\"1:Create a 3×3 square matrix in NumPy by static method.\"\n",
    "matrix = np.array([list1, list2, list3])\n",
    "matrix"
   ]
  },
  {
   "cell_type": "code",
   "execution_count": 3,
   "metadata": {},
   "outputs": [
    {
     "data": {
      "text/plain": [
       "array([[1, 2, 3],\n",
       "       [4, 5, 6],\n",
       "       [7, 8, 9]])"
      ]
     },
     "execution_count": 3,
     "metadata": {},
     "output_type": "execute_result"
    }
   ],
   "source": [
    "\"2:Create a 3×3 square matrix in NumPy by giving user input.\"\n",
    "matrix = np.array([[int(input(f\"Enter the value for row {_+1}, column {j+1}: \")) for j in range(3)] for _ in range(3)])\n",
    "matrix"
   ]
  },
  {
   "cell_type": "code",
   "execution_count": 4,
   "metadata": {},
   "outputs": [
    {
     "name": "stdout",
     "output_type": "stream",
     "text": [
      "Matrix 1: [[9 8 7]\n",
      " [6 6 5]\n",
      " [4 3 3]]\n",
      "Matrix 2: [[2 2 1]\n",
      " [2 3 5]\n",
      " [7 5 9]]\n"
     ]
    },
    {
     "data": {
      "text/plain": [
       "array([[11, 10,  8],\n",
       "       [ 8,  9, 10],\n",
       "       [11,  8, 12]])"
      ]
     },
     "execution_count": 4,
     "metadata": {},
     "output_type": "execute_result"
    }
   ],
   "source": [
    "\"3:Create two matrices of same order in NumPy using user input and show their addition.\"\n",
    "matrix1 = np.array([[int(input(f\"Enter the value for row {_+1}, column {j+1} of matrix 1: \")) for j in range(3)] for _ in range(3)])\n",
    "matrix2 = np.array([[int(input(f\"Enter the value for row {_+1}, column {j+1} of matrix 2: \")) for j in range(3)] for _ in range(3)])\n",
    "print(f\"Matrix 1: {matrix1}\\nMatrix 2: {matrix2}\")\n",
    "matrix1 + matrix2"
   ]
  },
  {
   "cell_type": "code",
   "execution_count": 5,
   "metadata": {},
   "outputs": [
    {
     "name": "stdout",
     "output_type": "stream",
     "text": [
      "Matrix 1: [[7 3 5]\n",
      " [7 2 5]\n",
      " [0 9 8]]\n",
      "Matrix 2: [[7 6 5]\n",
      " [1 3 4]\n",
      " [5 6 3]]\n"
     ]
    },
    {
     "data": {
      "text/plain": [
       "array([[ 0, -3,  0],\n",
       "       [ 6, -1,  1],\n",
       "       [-5,  3,  5]])"
      ]
     },
     "execution_count": 5,
     "metadata": {},
     "output_type": "execute_result"
    }
   ],
   "source": [
    "\"4:Create two matrices of same order by user input in NumPy and show their difference by subtracting them.\"\n",
    "matrix1 = np.array([[int(input(f\"Enter the value for row {_+1}, column {j+1} of matrix 1: \")) for j in range(3)] for _ in range(3)])\n",
    "matrix2 = np.array([[int(input(f\"Enter the value for row {_+1}, column {j+1} of matrix 2: \")) for j in range(3)] for _ in range(3)])\n",
    "print(f\"Matrix 1: {matrix1}\\nMatrix 2: {matrix2}\")\n",
    "matrix1 - matrix2"
   ]
  },
  {
   "cell_type": "code",
   "execution_count": 6,
   "metadata": {},
   "outputs": [
    {
     "name": "stdout",
     "output_type": "stream",
     "text": [
      "Matrix 1: [[8 6 5]\n",
      " [4 9 7]\n",
      " [5 3 5]]\n",
      "Matrix 2: [[ 6  7  3]\n",
      " [ 5  4  1]\n",
      " [ 9 66 44]]\n"
     ]
    },
    {
     "data": {
      "text/plain": [
       "array([[123, 410, 250],\n",
       "       [132, 526, 329],\n",
       "       [ 90, 377, 238]])"
      ]
     },
     "execution_count": 6,
     "metadata": {},
     "output_type": "execute_result"
    }
   ],
   "source": [
    "\"5:Create two matrices of same order in NumPy by user input and multiply them and show their output.\"\n",
    "matrix1 = np.array([[int(input(f\"Enter the value for row {_+1}, column {j+1} of matrix 1: \")) for j in range(3)] for _ in range(3)])\n",
    "matrix2 = np.array([[int(input(f\"Enter the value for row {_+1}, column {j+1} of matrix 2: \")) for j in range(3)] for _ in range(3)])\n",
    "print(f\"Matrix 1: {matrix1}\\nMatrix 2: {matrix2}\")\n",
    "matrix1 @ matrix2\n"
   ]
  },
  {
   "cell_type": "code",
   "execution_count": 7,
   "metadata": {},
   "outputs": [
    {
     "data": {
      "text/plain": [
       "array([[1, 2, 3],\n",
       "       [0, 5, 6],\n",
       "       [0, 0, 9]])"
      ]
     },
     "execution_count": 7,
     "metadata": {},
     "output_type": "execute_result"
    }
   ],
   "source": [
    "\"6:Write a program in NumPy to create a matrix and to print the upper triangle of the matrix.\"\n",
    "np.triu(matrix)"
   ]
  },
  {
   "cell_type": "code",
   "execution_count": 8,
   "metadata": {},
   "outputs": [
    {
     "data": {
      "text/plain": [
       "array([[1, 0, 0],\n",
       "       [4, 5, 0],\n",
       "       [7, 8, 9]])"
      ]
     },
     "execution_count": 8,
     "metadata": {},
     "output_type": "execute_result"
    }
   ],
   "source": [
    "\"7:Write a program in NumPy to create a matrix and to print the lower triangle of the matrix.\"\n",
    "np.tril(matrix)"
   ]
  },
  {
   "cell_type": "code",
   "execution_count": 9,
   "metadata": {},
   "outputs": [
    {
     "data": {
      "text/plain": [
       "array([[1, 4, 7],\n",
       "       [2, 5, 8],\n",
       "       [3, 6, 9]])"
      ]
     },
     "execution_count": 9,
     "metadata": {},
     "output_type": "execute_result"
    }
   ],
   "source": [
    "\"8:Write a program in NumPy to create a matrix and then to print it's transverse.\"\n",
    "matrix.T"
   ]
  },
  {
   "cell_type": "code",
   "execution_count": 10,
   "metadata": {},
   "outputs": [
    {
     "name": "stdout",
     "output_type": "stream",
     "text": [
      "Matrix: [[1 2 3]\n",
      " [4 5 6]\n",
      " [7 8 9]]\n"
     ]
    },
    {
     "data": {
      "text/plain": [
       "array([1, 5, 9])"
      ]
     },
     "execution_count": 10,
     "metadata": {},
     "output_type": "execute_result"
    }
   ],
   "source": [
    "\"9.Write a program in NumPy to create a matrix and then to print it's diagonal.\"\n",
    "print(f\"Matrix: {matrix}\")\n",
    "np.diag(matrix)"
   ]
  },
  {
   "cell_type": "code",
   "execution_count": 11,
   "metadata": {},
   "outputs": [
    {
     "name": "stdout",
     "output_type": "stream",
     "text": [
      "Matrix:\n",
      "[[1 2 3]\n",
      " [4 5 6]\n",
      " [7 8 9]]\n",
      "Is the matrix symmetric? False\n"
     ]
    }
   ],
   "source": [
    "\"10. Write a program in NumPy to create a matrix and to check whether a matrix is symmetric or not.( A symmetric matrix is equal to its transpose.)\"\n",
    "is_symmetric = np.array_equal(matrix, matrix.T)\n",
    "print(f\"Matrix:\\n{matrix}\")\n",
    "print(f\"Is the matrix symmetric? {is_symmetric}\")"
   ]
  }
 ],
 "metadata": {
  "kernelspec": {
   "display_name": "Python 3",
   "language": "python",
   "name": "python3"
  },
  "language_info": {
   "codemirror_mode": {
    "name": "ipython",
    "version": 3
   },
   "file_extension": ".py",
   "mimetype": "text/x-python",
   "name": "python",
   "nbconvert_exporter": "python",
   "pygments_lexer": "ipython3",
   "version": "3.13.0"
  }
 },
 "nbformat": 4,
 "nbformat_minor": 2
}
