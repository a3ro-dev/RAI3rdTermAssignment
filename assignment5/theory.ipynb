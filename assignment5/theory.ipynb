{
 "cells": [
  {
   "cell_type": "markdown",
   "metadata": {},
   "source": [
    "# Question 1: Discuss the benefits and limitations of using `autonomous warehouse robots`.<br>\n",
    "Answer: \n",
    "Benefits: `Autonomous warehouse robots` increase efficiency by automating repetitive tasks, reduce labor costs, and improve accuracy in inventory management.<br>\n",
    "Limitations: They have high initial costs, require regular maintenance, and may lack flexibility in handling unexpected tasks."
   ]
  },
  {
   "cell_type": "markdown",
   "metadata": {},
   "source": [
    "# Question 2: Define `autonomous Drone`.<br>\n",
    "Answer: \n",
    "An `autonomous drone` is an unmanned aerial vehicle (`UAV`) that operates without human intervention, using onboard sensors, `GPS`, and software algorithms to navigate and perform tasks."
   ]
  },
  {
   "cell_type": "markdown",
   "metadata": {},
   "source": [
    "# Question 3: Differentiate between `Robots` and `Cobots`.<br>\n",
    "Answer: \n",
    "`Robots` are designed to operate independently, often in isolated environments, performing tasks without human interaction.<br>\n",
    "`Cobots`, or collaborative robots, are designed to work alongside humans, sharing workspaces and assisting with tasks."
   ]
  },
  {
   "cell_type": "markdown",
   "metadata": {},
   "source": [
    "# Question 4: Define a `machine`. Give few characteristics of a `machines`.<br>\n",
    "Answer: \n",
    "A `machine` is a device that uses energy to perform a specific task.<br>\n",
    "Characteristics of `machines` include efficiency, precision, consistency, and the ability to automate repetitive tasks."
   ]
  },
  {
   "cell_type": "markdown",
   "metadata": {},
   "source": [
    "# Question 5: Define `Gear` and also explain its types.<br>\n",
    "Answer: \n",
    "A `gear` is a rotating machine part with cut teeth that mesh with another toothed part to transmit torque.<br>\n",
    "Types of `gears` include `spur gears` (straight teeth), `helical gears` (angled teeth), `bevel gears` (conical shape), and `worm gears` (screw-like shape)."
   ]
  },
  {
   "cell_type": "markdown",
   "metadata": {},
   "source": [
    "# Question 6: Describe `Gear efficiency`.<br>\n",
    "Answer: \n",
    "`Gear efficiency` is the ratio of the output power to the input power, indicating how effectively a `gear` transmits power without losses due to friction, heat, or other factors."
   ]
  },
  {
   "cell_type": "markdown",
   "metadata": {},
   "source": [
    "# Question 7: Explain emerging `sensor technologies` and their potential applications in `robotics`.<br>\n",
    "Answer: \n",
    "Emerging `sensor technologies` include `LIDAR` (Light Detection and Ranging), `ultrasonic sensors`, and `infrared sensors`.<br>\n",
    "These sensors are used in `robotics` for navigation, obstacle detection, environmental mapping, and enhancing the robot's interaction with its surroundings."
   ]
  },
  {
   "cell_type": "markdown",
   "metadata": {},
   "source": [
    "# Question 8: Explain difference between `supervised` and `unsupervised learning`.<br>\n",
    "Answer: \n",
    "`Supervised learning` involves training a model on labeled data, where the input-output pairs are known.<br>\n",
    "`Unsupervised learning` involves training a model on unlabeled data, where the algorithm identifies patterns and relationships within the data without predefined labels."
   ]
  },
  {
   "cell_type": "markdown",
   "metadata": {},
   "source": [
    "# Question 9: Differentiate between `learning` and `Artificial Intelligence`.<br>\n",
    "Answer: \n",
    "`Learning` refers to the process of acquiring knowledge or skills through experience, study, or teaching.<br>\n",
    "`Artificial Intelligence` (`AI`) is the simulation of human intelligence in machines, enabling them to perform tasks that typically require human intelligence, such as problem-solving and decision-making."
   ]
  },
  {
   "cell_type": "markdown",
   "metadata": {},
   "source": [
    "# Question 10: What is `Cyber-crime`? Explain it.<br>\n",
    "Answer: \n",
    "`Cyber-crime` refers to illegal activities conducted via the internet or other digital means.<br>\n",
    "Examples include hijacking, phishing, identity theft, and distributing malware, all of which exploit vulnerabilities in digital systems for malicious purposes."
   ]
  },
  {
   "cell_type": "markdown",
   "metadata": {},
   "source": [
    "# Question 11: Give the advantages and disadvantages of `Artificial Intelligence`.<br>\n",
    "Answer: \n",
    "Advantages of `AI` include automation of repetitive tasks, increased efficiency, and enhanced data analysis capabilities.<br>\n",
    "Disadvantages include potential job displacement, ethical concerns, high development costs, and the risk of biased decision-making."
   ]
  },
  {
   "cell_type": "markdown",
   "metadata": {},
   "source": [
    "# Question 12: What are `Underwater Robots`? Give some applications of `Underwater Robots`.<br>\n",
    "Answer: \n",
    "`Underwater robots` are machines designed to operate underwater, often equipped with sensors and cameras.<br>\n",
    "Applications include ocean exploration, pipeline inspection, marine biology research, and underwater construction."
   ]
  },
  {
   "cell_type": "markdown",
   "metadata": {},
   "source": [
    "# Question 13: Explain limitations of `Human Intelligence`.<br>\n",
    "Answer: \n",
    "Limitations of `human intelligence` include cognitive biases, limited processing speed, susceptibility to fatigue, and emotional influence, which can affect decision-making and problem-solving abilities."
   ]
  },
  {
   "cell_type": "markdown",
   "metadata": {},
   "source": [
    "# Question 14: What are `NARs`. Illustrate with 2 examples.<br>\n",
    "Answer: \n",
    "`NARs` (Non-Anthropomorphic Robots) are robots that do not resemble humans in appearance.<br>\n",
    "Examples include the `Roomba` vacuum cleaner and robotic arms used in manufacturing."
   ]
  },
  {
   "cell_type": "markdown",
   "metadata": {},
   "source": [
    "# Question 15: Explain `Reinforcement learning`. Key components of `RL` with examples.<br>\n",
    "Answer: \n",
    "`Reinforcement learning` is a type of machine learning where an agent learns to make decisions by performing actions and receiving rewards or penalties.<br>\n",
    "Key components include the agent, environment, actions, and rewards.<br>\n",
    "An example is `AlphaGo`, a program that learned to play the game Go through `reinforcement learning`."
   ]
  },
  {
   "cell_type": "markdown",
   "metadata": {},
   "source": [
    "# Question 16: Explain `Human` Vs `machine decision making` (Subjective Vs Objective)? Describe differences.<br>\n",
    "Answer: \n",
    "`Human decision-making` is often subjective, influenced by emotions, biases, and personal experiences.<br>\n",
    "`Machine decision-making` is objective, based on data and algorithms, and free from emotional influence, leading to consistent and unbiased outcomes."
   ]
  },
  {
   "cell_type": "markdown",
   "metadata": {},
   "source": [
    "# Question 17: Explain `Deterministic` Vs `Probabilistic system`.<br>\n",
    "Answer: \n",
    "A `deterministic system` produces predictable outcomes with no randomness involved, given the same initial conditions.<br>\n",
    "A `probabilistic system` involves randomness and uncertainty, producing outcomes based on probabilities rather than certainty."
   ]
  },
  {
   "cell_type": "markdown",
   "metadata": {},
   "source": [
    "# Question 18: What is `Intelligence`? Explain its importance and types.<br>\n",
    "Answer: \n",
    "`Intelligence` is the ability to learn, understand, and apply knowledge to solve problems and adapt to new situations.<br>\n",
    "It is important for effective decision-making and problem-solving.<br>\n",
    "Types of `intelligence` include `interpersonal intelligence`, `linguistic intelligence`, and `kinesthetic intelligence`."
   ]
  },
  {
   "cell_type": "markdown",
   "metadata": {},
   "source": [
    "# Question 19: How `Human Drones` are being used in India? Explain with examples.<br>\n",
    "Answer: \n",
    "In India, `human drones` are used in agriculture for crop monitoring, in disaster management for rescue operations, and in surveillance for border security.<br>\n",
    "Examples include drones spraying pesticides and drones surveying flood-affected areas."
   ]
  },
  {
   "cell_type": "markdown",
   "metadata": {},
   "source": [
    "# Question 20: Explain `Gear ratio`.<br>\n",
    "Answer: \n",
    "`Gear ratio` is the ratio of the number of teeth on two meshing gears, determining the relationship between the rotational speeds and torques of the gears.<br>\n",
    "It is calculated by dividing the number of teeth on the driven gear by the number of teeth on the driving gear."
   ]
  },
  {
   "cell_type": "markdown",
   "metadata": {},
   "source": [
    "# Question 21: What is difference between `Human Intelligence`, `Machine Intelligence`, `Artificial Intelligence`.<br>\n",
    "Answer: \n",
    "`Human Intelligence` refers to natural cognitive abilities possessed by humans.<br>\n",
    "`Machine Intelligence` refers to the computational capabilities of machines.<br>\n",
    "`Artificial Intelligence` is the simulation of human-like intelligence in machines, enabling them to perform tasks that typically require human intelligence."
   ]
  },
  {
   "cell_type": "markdown",
   "metadata": {},
   "source": [
    "# Question 22: Differentiate between `Machines` and `Robots`.<br>\n",
    "Answer: \n",
    "`Machines` are devices that perform specific tasks, often requiring human operation.<br>\n",
    "`Robots` are machines equipped with sensors and control systems, capable of autonomous or semi-autonomous operation, and can perform complex tasks without human intervention."
   ]
  }
 ],
 "metadata": {
  "language_info": {
   "name": "python"
  }
 },
 "nbformat": 4,
 "nbformat_minor": 2
}
