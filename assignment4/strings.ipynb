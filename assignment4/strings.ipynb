{
 "cells": [
  {
   "cell_type": "markdown",
   "metadata": {},
   "source": [
    "# Strings\n",
    "Python strings are sequences of characters enclosed in either single quotes ('') or double quotes (\"\"). They are immutable, which means that once a string is created, it cannot be changed.\n",
    "\n",
    "Here are some common operations and methods that can be performed on strings in Python:\n",
    "\n",
    "1. Concatenation: Strings can be concatenated using the `+` operator. For example:\n",
    "    ```python\n",
    "    str1 = \"Hello\"\n",
    "    str2 = \"World\"\n",
    "    result = str1 + \" \" + str2\n",
    "    print(result)  # Output: Hello World\n",
    "    ```\n",
    "\n",
    "2. String formatting: Python provides different ways to format strings, such as using the `%` operator or the `format()` method. For example:\n",
    "    ```python\n",
    "    name = \"Alice\"\n",
    "    age = 25\n",
    "    message = \"My name is %s and I am %d years old.\" % (name, age)\n",
    "    print(message)  # Output: My name is Alice and I am 25 years old.\n",
    "    ```\n",
    "\n",
    "3. Accessing characters: Individual characters in a string can be accessed using indexing. Python uses zero-based indexing, so the first character is at index 0. For example:\n",
    "    ```python\n",
    "    word = \"Python\"\n",
    "    print(word[0])  # Output: P\n",
    "    print(word[2])  # Output: t\n",
    "    ```\n",
    "\n",
    "4. String methods: Python provides various built-in methods to manipulate strings. Some commonly used methods include `lower()`, `upper()`, `strip()`, `split()`, `replace()`, and `find()`. For example:\n",
    "    ```python\n",
    "    sentence = \"   Hello, World!   \"\n",
    "    print(sentence.lower())  # Output: hello, world!\n",
    "    print(sentence.strip())  # Output: Hello, World!\n",
    "    print(sentence.split(\",\"))  # Output: ['   Hello', ' World!   ']\n",
    "    ```\n",
    "\n",
    "These are just a few examples of what you can do with strings in Python. Strings are a fundamental data type in Python and are used extensively in various programming tasks."
   ]
  },
  {
   "cell_type": "code",
   "execution_count": 1,
   "metadata": {},
   "outputs": [
    {
     "name": "stdout",
     "output_type": "stream",
     "text": [
      "Number of words: 6\n"
     ]
    }
   ],
   "source": [
    "# 1. Write a Python program to count the number of words in a given string.\n",
    "\n",
    "def count_words(s):\n",
    "    return len(s.split())\n",
    "\n",
    "# Example usage\n",
    "s = \"Hello world this is a test\"\n",
    "print(\"Number of words:\", count_words(s))"
   ]
  },
  {
   "cell_type": "code",
   "execution_count": 2,
   "metadata": {},
   "outputs": [
    {
     "name": "stdout",
     "output_type": "stream",
     "text": [
      "Number of vowels: 3\n"
     ]
    }
   ],
   "source": [
    "# 2. Write a Python program to count the number of vowels in a given string.\n",
    "\n",
    "def count_vowels(s):\n",
    "    vowels = \"aeiouAEIOU\"\n",
    "    return sum(1 for char in s if char in vowels)\n",
    "\n",
    "# Example usage\n",
    "s = \"Hello world\"\n",
    "print(\"Number of vowels:\", count_vowels(s))"
   ]
  },
  {
   "cell_type": "code",
   "execution_count": 3,
   "metadata": {},
   "outputs": [
    {
     "name": "stdout",
     "output_type": "stream",
     "text": [
      "\"racecar\" is a palindrome: True\n"
     ]
    }
   ],
   "source": [
    "# 3. Write a Python program to check if a given string is a palindrome.\n",
    "\n",
    "def is_palindrome(s):\n",
    "    return s == s[::-1]\n",
    "\n",
    "# Example usage\n",
    "s = \"racecar\"\n",
    "print(f'\"{s}\" is a palindrome:', is_palindrome(s))"
   ]
  },
  {
   "cell_type": "code",
   "execution_count": 4,
   "metadata": {},
   "outputs": [
    {
     "name": "stdout",
     "output_type": "stream",
     "text": [
      "\"12345\" contains only digits: True\n"
     ]
    }
   ],
   "source": [
    "# 4. Write a Python program to check if a given string contains only digits.\n",
    "\n",
    "def contains_only_digits(s):\n",
    "    return s.isdigit()\n",
    "\n",
    "# Example usage\n",
    "s = \"12345\"\n",
    "print(f'\"{s}\" contains only digits:', contains_only_digits(s))"
   ]
  },
  {
   "cell_type": "code",
   "execution_count": 5,
   "metadata": {},
   "outputs": [
    {
     "name": "stdout",
     "output_type": "stream",
     "text": [
      "String after removing non-alphanumeric characters: HelloWorld\n"
     ]
    }
   ],
   "source": [
    "# 5. Write a Python program to remove all non-alphanumeric characters from a string.\n",
    "\n",
    "def remove_non_alphanumeric(s):\n",
    "    return ''.join(char for char in s if char.isalnum())\n",
    "\n",
    "# Example usage\n",
    "s = \"Hello, World!\"\n",
    "print(\"String after removing non-alphanumeric characters:\", remove_non_alphanumeric(s))"
   ]
  },
  {
   "cell_type": "code",
   "execution_count": 6,
   "metadata": {},
   "outputs": [
    {
     "name": "stdout",
     "output_type": "stream",
     "text": [
      "Reversed string: dlroW olleH\n"
     ]
    }
   ],
   "source": [
    "# 6. Write a Python program to reverse a given string.\n",
    "\n",
    "def reverse_string(s):\n",
    "    return s[::-1]\n",
    "\n",
    "# Example usage\n",
    "s = \"Hello World\"\n",
    "print(\"Reversed string:\", reverse_string(s))"
   ]
  },
  {
   "cell_type": "code",
   "execution_count": 7,
   "metadata": {},
   "outputs": [
    {
     "name": "stdout",
     "output_type": "stream",
     "text": [
      "\"listen\" and \"silent\" are anagrams: True\n"
     ]
    }
   ],
   "source": [
    "# 7. Write a Python program to check if two strings are anagrams of each other.\n",
    "\n",
    "def are_anagrams(s1, s2):\n",
    "    return sorted(s1) == sorted(s2)\n",
    "# Example usage\n",
    "s1 = \"listen\"\n",
    "s2 = \"silent\"\n",
    "print(f'\"{s1}\" and \"{s2}\" are anagrams:', are_anagrams(s1, s2))"
   ]
  },
  {
   "cell_type": "code",
   "execution_count": 8,
   "metadata": {},
   "outputs": [
    {
     "name": "stdout",
     "output_type": "stream",
     "text": [
      "String after removing vowels: Hll Wrld\n"
     ]
    }
   ],
   "source": [
    "# 8. Write a Python program to remove all vowels from a given string.\n",
    "\n",
    "def remove_vowels(s):\n",
    "    vowels = \"aeiouAEIOU\"\n",
    "    return ''.join(char for char in s if char not in vowels)\n",
    "# Example usage\n",
    "s = \"Hello World\"\n",
    "print(\"String after removing vowels:\", remove_vowels(s))"
   ]
  },
  {
   "cell_type": "code",
   "execution_count": 9,
   "metadata": {},
   "outputs": [
    {
     "name": "stdout",
     "output_type": "stream",
     "text": [
      "All substrings: ['a', 'ab', 'abc', 'b', 'bc', 'c']\n"
     ]
    }
   ],
   "source": [
    "# 9. Write a Python program to find all substrings of a given string.\n",
    "\n",
    "def all_substrings(s):\n",
    "    return [s[i:j] for i in range(len(s)) for j in range(i + 1, len(s) + 1)]\n",
    "# Example usage\n",
    "s = \"abc\"\n",
    "print(\"All substrings:\", all_substrings(s))"
   ]
  },
  {
   "cell_type": "code",
   "execution_count": 10,
   "metadata": {},
   "outputs": [
    {
     "name": "stdout",
     "output_type": "stream",
     "text": [
      "Sorted words: a hello is test this world\n"
     ]
    }
   ],
   "source": [
    "# 10. Write a Python program to sort words in a given sentence in alphabetical order.\n",
    "\n",
    "def sort_words(s):\n",
    "    return ' '.join(sorted(s.split()))\n",
    "# Example usage\n",
    "s = \"hello world this is a test\"\n",
    "print(\"Sorted words:\", sort_words(s))"
   ]
  },
  {
   "cell_type": "code",
   "execution_count": 11,
   "metadata": {},
   "outputs": [
    {
     "name": "stdout",
     "output_type": "stream",
     "text": [
      "Number of vowels: 3\n",
      "Number of consonants: 7\n"
     ]
    }
   ],
   "source": [
    "# 11. Write a Python program to count the number of consonants and vowels in a given string.\n",
    "\n",
    "def count_vowels_consonants(s):\n",
    "    vowels = \"aeiouAEIOU\"\n",
    "    num_vowels = sum(1 for char in s if char in vowels)\n",
    "    num_consonants = sum(1 for char in s if char.isalpha() and char not in vowels)\n",
    "    return num_vowels, num_consonants\n",
    "# Example usage\n",
    "s = \"hello world\"\n",
    "num_vowels, num_consonants = count_vowels_consonants(s)\n",
    "print(\"Number of vowels:\", num_vowels)\n",
    "print(\"Number of consonants:\", num_consonants)"
   ]
  },
  {
   "cell_type": "code",
   "execution_count": 12,
   "metadata": {},
   "outputs": [
    {
     "name": "stdout",
     "output_type": "stream",
     "text": [
      "Length of the string: 11\n"
     ]
    }
   ],
   "source": [
    "# 12. Write a Python program to find the length of a string without using the built-in len() function.\n",
    "\n",
    "def string_length(s):\n",
    "    length = 0\n",
    "    for char in s:\n",
    "        length += 1\n",
    "    return length\n",
    "# Example usage\n",
    "s = \"hello world\"\n",
    "print(\"Length of the string:\", string_length(s))"
   ]
  },
  {
   "cell_type": "code",
   "execution_count": 13,
   "metadata": {},
   "outputs": [
    {
     "name": "stdout",
     "output_type": "stream",
     "text": [
      "\"racecar\" is a palindrome: True\n"
     ]
    }
   ],
   "source": [
    "# 13. Write a Python program to check if a given string is a palindrome using function.\n",
    "\n",
    "def is_palindrome(s):\n",
    "    return s == s[::-1]\n",
    "# Example usage\n",
    "s = \"racecar\"\n",
    "print(f'\"{s}\" is a palindrome:', is_palindrome(s))"
   ]
  },
  {
   "cell_type": "code",
   "execution_count": 14,
   "metadata": {},
   "outputs": [
    {
     "name": "stdout",
     "output_type": "stream",
     "text": [
      "String after removing leading and trailing whitespace: hello\n"
     ]
    }
   ],
   "source": [
    "# 14. Write a Python program to remove leading and trailing whitespace from the string \" hello \".\n",
    "\n",
    "def remove_whitespace(s):\n",
    "    return s.strip()\n",
    "# Example usage\n",
    "s = \" hello \"\n",
    "print(\"String after removing leading and trailing whitespace:\", remove_whitespace(s))"
   ]
  },
  {
   "cell_type": "code",
   "execution_count": 15,
   "metadata": {},
   "outputs": [
    {
     "name": "stdout",
     "output_type": "stream",
     "text": [
      "Index of character 'w': 6\n"
     ]
    }
   ],
   "source": [
    "# 15. Write a Python program to find the index of the character 'w' in the string \"hello world\".\n",
    "\n",
    "def find_index(s, char):\n",
    "    return s.index(char)\n",
    "# Example usage\n",
    "s = \"hello world\"\n",
    "char = 'w'\n",
    "print(f\"Index of character '{char}':\", find_index(s, char))"
   ]
  },
  {
   "cell_type": "code",
   "execution_count": 16,
   "metadata": {},
   "outputs": [
    {
     "name": "stdout",
     "output_type": "stream",
     "text": [
      "String after removing punctuation: hello world\n"
     ]
    }
   ],
   "source": [
    "# 16. Write a Python program to remove all punctuation from the string \"hello, world!\".\n",
    "\n",
    "def remove_punctuation(s):\n",
    "    return ''.join(char for char in s if char.isalnum() or char.isspace())\n",
    "# Example usage\n",
    "s = \"hello, world!\"\n",
    "print(\"String after removing punctuation:\", remove_punctuation(s))"
   ]
  },
  {
   "cell_type": "code",
   "execution_count": 17,
   "metadata": {},
   "outputs": [
    {
     "name": "stdout",
     "output_type": "stream",
     "text": [
      "Uppercase string: HELLO WORLD\n"
     ]
    }
   ],
   "source": [
    "# 17. Write a Python program to convert the string \"hello world\" to uppercase.\n",
    "\n",
    "def to_uppercase(s):\n",
    "    return s.upper()\n",
    "# Example usage\n",
    "s = \"hello world\"\n",
    "print(\"Uppercase string:\", to_uppercase(s))"
   ]
  },
  {
   "cell_type": "code",
   "execution_count": 18,
   "metadata": {},
   "outputs": [
    {
     "name": "stdout",
     "output_type": "stream",
     "text": [
      "Length of the string: 6\n"
     ]
    }
   ],
   "source": [
    "# 18. Write a Python program to find the length of the string \"OpenAI\".\n",
    "\n",
    "def string_length(s):\n",
    "    length = 0\n",
    "    for char in s:\n",
    "        length += 1\n",
    "    return length\n",
    "# Example usage\n",
    "s = \"OpenAI\"\n",
    "print(\"Length of the string:\", string_length(s))"
   ]
  },
  {
   "cell_type": "code",
   "execution_count": 19,
   "metadata": {},
   "outputs": [
    {
     "name": "stdout",
     "output_type": "stream",
     "text": [
      "Swapped case string: hELLO wORLD\n"
     ]
    }
   ],
   "source": [
    "# 19. Write a Python program to swap the case of all characters in the string \"Hello World\".\n",
    "\n",
    "def swap_case(s):\n",
    "    return ''.join([char.lower() if char.isupper() else char.upper() for char in s])\n",
    "# Example usage\n",
    "s = \"Hello World\"\n",
    "print(\"Swapped case string:\", swap_case(s))"
   ]
  }
 ],
 "metadata": {
  "kernelspec": {
   "display_name": "Python 3",
   "language": "python",
   "name": "python3"
  },
  "language_info": {
   "codemirror_mode": {
    "name": "ipython",
    "version": 3
   },
   "file_extension": ".py",
   "mimetype": "text/x-python",
   "name": "python",
   "nbconvert_exporter": "python",
   "pygments_lexer": "ipython3",
   "version": "3.12.3"
  }
 },
 "nbformat": 4,
 "nbformat_minor": 2
}
