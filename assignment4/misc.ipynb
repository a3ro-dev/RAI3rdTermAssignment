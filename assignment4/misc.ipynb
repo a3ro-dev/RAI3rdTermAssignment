{
 "cells": [
  {
   "cell_type": "markdown",
   "metadata": {},
   "source": [
    "# Miscellaneous Python\n",
    "Python is a high-level programming language known for its simplicity and readability. It was created by Guido van Rossum and first released in 1991. Python emphasizes code readability and has a clean syntax that allows programmers to express concepts in fewer lines of code compared to other languages.\n",
    "\n",
    "Python supports multiple programming paradigms, including procedural, object-oriented, and functional programming. It has a large standard library that provides a wide range of modules and functions for various tasks, making it highly versatile.\n",
    "\n",
    "Python is widely used in various domains, including web development, data analysis, machine learning, scientific computing, and automation. Its popularity is attributed to its ease of use, extensive community support, and a vast ecosystem of third-party libraries and frameworks.\n",
    "\n",
    "Some key features of Python include:\n",
    "\n",
    "- Simple and expressive syntax\n",
    "- Dynamic typing and automatic memory management\n",
    "- Cross-platform compatibility\n",
    "- Extensive standard library\n",
    "- Support for multiple programming paradigms\n",
    "- Integration with other languages\n",
    "- Strong community support\n",
    "\n",
    "Overall, Python is a powerful and flexible programming language that is widely adopted for its simplicity, versatility, and extensive ecosystem."
   ]
  },
  {
   "cell_type": "code",
   "execution_count": 1,
   "metadata": {},
   "outputs": [
    {
     "name": "stdout",
     "output_type": "stream",
     "text": [
      "29 is prime: True\n",
      "12 is prime: False\n"
     ]
    }
   ],
   "source": [
    "# 1. Write a Python program to check if a given number n is prime or not.\n",
    "\n",
    "def is_prime(n):\n",
    "    if n <= 1:\n",
    "        return False\n",
    "    for i in range(2, int(n**0.5) + 1):\n",
    "        if n % i == 0:\n",
    "            return False\n",
    "    return True\n",
    "# Example usage\n",
    "n = 29\n",
    "print(f\"{n} is prime:\", is_prime(n))\n",
    "n = 12\n",
    "print(f\"{n} is prime:\", is_prime(n))"
   ]
  },
  {
   "cell_type": "code",
   "execution_count": 2,
   "metadata": {},
   "outputs": [
    {
     "name": "stdout",
     "output_type": "stream",
     "text": [
      "Sum of squares from 1 to 5 : 55\n",
      "Sum of squares from 1 to 7 : 140\n"
     ]
    }
   ],
   "source": [
    "# 2. Write a Python program to calculate the sum of squares of numbers from 1 to n.\n",
    "\n",
    "def sum_of_squares(n):\n",
    "    return sum(i**2 for i in range(1, n+1))\n",
    "# Example usage\n",
    "n = 5\n",
    "print(\"Sum of squares from 1 to\", n, \":\", sum_of_squares(n))\n",
    "n = 7\n",
    "print(\"Sum of squares from 1 to\", n, \":\", sum_of_squares(n))"
   ]
  },
  {
   "cell_type": "code",
   "execution_count": 3,
   "metadata": {},
   "outputs": [
    {
     "name": "stdout",
     "output_type": "stream",
     "text": [
      "HCF of 54 and 24 is: 6\n",
      "HCF of 23 and 13 is: 1\n"
     ]
    }
   ],
   "source": [
    "# 3. Write a Python program to find the Highest Common Factor (HCF) of two numbers.\n",
    "\n",
    "def hcf(x, y):\n",
    "    while y:\n",
    "        x, y = y, x % y\n",
    "    return x\n",
    "# Example usage\n",
    "x, y = 54, 24\n",
    "print(\"HCF of\", x, \"and\", y, \"is:\", hcf(x, y))\n",
    "x, y = 23, 13\n",
    "print(\"HCF of\", x, \"and\", y, \"is:\", hcf(x, y))"
   ]
  },
  {
   "cell_type": "code",
   "execution_count": 4,
   "metadata": {},
   "outputs": [
    {
     "name": "stdout",
     "output_type": "stream",
     "text": [
      "Factorial of 5 is: 120\n",
      "Factorial of 3 is: 6\n"
     ]
    }
   ],
   "source": [
    "# 4. Write a Python program to find the factorial of a given number.\n",
    "\n",
    "def factorial(n):\n",
    "    if n == 0:\n",
    "        return 1\n",
    "    result = 1\n",
    "    for i in range(1, n + 1):\n",
    "        result *= i\n",
    "    return result\n",
    "# Example usage\n",
    "n = 5\n",
    "print(f\"Factorial of {n} is:\", factorial(n))\n",
    "n = 3\n",
    "print(f\"Factorial of {n} is:\", factorial(n))"
   ]
  },
  {
   "cell_type": "code",
   "execution_count": 5,
   "metadata": {},
   "outputs": [
    {
     "name": "stdout",
     "output_type": "stream",
     "text": [
      "153 is an Armstrong number: True\n",
      "370 is an Armstrong number: True\n"
     ]
    }
   ],
   "source": [
    "# 5. Write a Python program to check if a given number is an Armstrong number.\n",
    "\n",
    "def is_armstrong(n):\n",
    "    num_str = str(n)\n",
    "    num_len = len(num_str)\n",
    "    sum_of_powers = sum(int(digit) ** num_len for digit in num_str)\n",
    "    return sum_of_powers == n\n",
    "\n",
    "# Example usage\n",
    "n = 153\n",
    "print(f\"{n} is an Armstrong number:\", is_armstrong(n))\n",
    "n = 370\n",
    "print(f\"{n} is an Armstrong number:\", is_armstrong(n))"
   ]
  }
 ],
 "metadata": {
  "kernelspec": {
   "display_name": "Python 3",
   "language": "python",
   "name": "python3"
  },
  "language_info": {
   "codemirror_mode": {
    "name": "ipython",
    "version": 3
   },
   "file_extension": ".py",
   "mimetype": "text/x-python",
   "name": "python",
   "nbconvert_exporter": "python",
   "pygments_lexer": "ipython3",
   "version": "3.12.3"
  }
 },
 "nbformat": 4,
 "nbformat_minor": 2
}
