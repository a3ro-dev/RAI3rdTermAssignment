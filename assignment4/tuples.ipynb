{
 "cells": [
  {
   "cell_type": "markdown",
   "metadata": {},
   "source": [
    "# TUPLES\n",
    "A tuple in Python is an immutable sequence of elements, enclosed in parentheses `()`. Tuples are similar to lists, but unlike lists, they cannot be modified once created. Tuples are commonly used to store related pieces of data together.\n",
    "\n",
    "Here's an example of creating a tuple in Python:\n",
    "\n",
    "```python\n",
    "my_tuple = (1, 2, 3, 'a', 'b', 'c')\n",
    "```\n",
    "\n",
    "In the above example, `my_tuple` is a tuple that contains integers and strings. Tuples can store elements of different data types.\n",
    "\n",
    "You can access individual elements of a tuple using indexing, just like lists. For example:\n",
    "\n",
    "```python\n",
    "print(my_tuple[0])  # Output: 1\n",
    "print(my_tuple[3])  # Output: 'a'\n",
    "```\n",
    "\n",
    "Tuples also support slicing, which allows you to extract a portion of the tuple. For example:\n",
    "\n",
    "```python\n",
    "print(my_tuple[2:5])  # Output: (3, 'a', 'b')\n",
    "```\n",
    "\n",
    "Since tuples are immutable, you cannot modify their elements or add/remove elements once created. However, you can concatenate tuples or create new tuples based on existing ones.\n",
    "\n",
    "```python\n",
    "tuple1 = (1, 2, 3)\n",
    "tuple2 = ('a', 'b', 'c')\n",
    "concatenated_tuple = tuple1 + tuple2\n",
    "print(concatenated_tuple)  # Output: (1, 2, 3, 'a', 'b', 'c')\n",
    "```\n",
    "\n",
    "Tuples are often used when you want to ensure that the data remains unchanged throughout your program or when you want to return multiple values from a function.\n"
   ]
  },
  {
   "cell_type": "code",
   "execution_count": 1,
   "metadata": {},
   "outputs": [
    {
     "name": "stdout",
     "output_type": "stream",
     "text": [
      "Concatenated tuple: (1, 2, 3, 4, 5, 6)\n"
     ]
    }
   ],
   "source": [
    "# 1. Create two tuples t1 with elements (1, 2, 3) and t2 with elements (4, 5, 6). Concatenate them into a single tuple t3 and print t3.\n",
    "\n",
    "t1 = (1, 2, 3)\n",
    "t2 = (4, 5, 6)\n",
    "t3 = t1 + t2\n",
    "print(\"Concatenated tuple:\", t3)"
   ]
  },
  {
   "cell_type": "code",
   "execution_count": 2,
   "metadata": {},
   "outputs": [
    {
     "name": "stdout",
     "output_type": "stream",
     "text": [
      "First element: 10\n",
      "Last element: 50\n"
     ]
    }
   ],
   "source": [
    "# 2. Create a tuple t with elements (10, 20, 30, 40, 50). Print the first and last element.\n",
    "\n",
    "t = (10, 20, 30, 40, 50)\n",
    "print(\"First element:\", t[0])\n",
    "print(\"Last element:\", t[-1])"
   ]
  },
  {
   "cell_type": "code",
   "execution_count": 3,
   "metadata": {},
   "outputs": [
    {
     "name": "stdout",
     "output_type": "stream",
     "text": [
      "Length of the tuple: 5\n"
     ]
    }
   ],
   "source": [
    "# 3. Create a tuple t with elements (10, 20, 30, 40, 50). Print the length of the tuple.\n",
    "\n",
    "t = (10, 20, 30, 40, 50)\n",
    "print(\"Length of the tuple:\", len(t))"
   ]
  },
  {
   "cell_type": "code",
   "execution_count": 4,
   "metadata": {},
   "outputs": [
    {
     "name": "stdout",
     "output_type": "stream",
     "text": [
      "Maximum element: 9\n",
      "Minimum element: 1\n"
     ]
    }
   ],
   "source": [
    "# 4. Create a tuple t = (5, 1, 8, 3, 9, 2) and find the maximum and minimum elements.\n",
    "\n",
    "t = (5, 1, 8, 3, 9, 2)\n",
    "print(\"Maximum element:\", max(t))\n",
    "print(\"Minimum element:\", min(t))"
   ]
  },
  {
   "cell_type": "code",
   "execution_count": 5,
   "metadata": {},
   "outputs": [
    {
     "name": "stdout",
     "output_type": "stream",
     "text": [
      "Element at index 3-> 4\n"
     ]
    }
   ],
   "source": [
    "# 5. Create a tuple t with elements (1, 2, 3, 4, 5) and print the element at index 3.\n",
    "\n",
    "def element_at_index(tpl, index):\n",
    "    return tpl[index]\n",
    "# Example usage\n",
    "tpl = (1, 2, 3, 4, 5)\n",
    "index = 3\n",
    "print(f\"Element at index {index}->\", element_at_index(tpl, index))"
   ]
  }
 ],
 "metadata": {
  "kernelspec": {
   "display_name": "Python 3",
   "language": "python",
   "name": "python3"
  },
  "language_info": {
   "codemirror_mode": {
    "name": "ipython",
    "version": 3
   },
   "file_extension": ".py",
   "mimetype": "text/x-python",
   "name": "python",
   "nbconvert_exporter": "python",
   "pygments_lexer": "ipython3",
   "version": "3.12.3"
  }
 },
 "nbformat": 4,
 "nbformat_minor": 2
}
