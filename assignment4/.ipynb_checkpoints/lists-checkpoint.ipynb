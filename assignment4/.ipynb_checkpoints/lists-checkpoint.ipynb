{
 "cells": [
  {
   "cell_type": "markdown",
   "metadata": {},
   "source": [
    "# LISTS\n",
    "Python lists are a versatile data structure that can hold a collection of items. They are defined using square brackets `[]` and can contain elements of different data types, such as integers, strings, or even other lists.\n",
    "\n",
    "Here's an example of creating a list in Python:\n",
    "\n",
    "```python\n",
    "my_list = [1, 2, 3, \"apple\", \"banana\"]\n",
    "```\n",
    "\n",
    "In the above example, `my_list` is a list that contains integers (`1`, `2`, `3`) and strings (`\"apple\"`, `\"banana\"`).\n",
    "\n",
    "Lists are mutable, which means you can modify their elements. You can access individual elements of a list using indexing, starting from 0. For example, to access the first element of `my_list`, you can use `my_list[0]`.\n",
    "\n",
    "Lists also support various operations such as appending elements, removing elements, slicing, and concatenation. Here are a few examples:\n",
    "\n",
    "```python\n",
    "my_list.append(4)  # Adds 4 to the end of the list\n",
    "my_list.remove(\"apple\")  # Removes the element \"apple\" from the list\n",
    "sliced_list = my_list[1:3]  # Creates a new list with elements from index 1 to 2\n",
    "concatenated_list = my_list + [5, 6]  # Concatenates two lists\n",
    "```\n",
    "\n",
    "Lists are a fundamental data structure in Python and are widely used in various applications. They provide flexibility and convenience for storing and manipulating collections of data."
   ]
  },
  {
   "cell_type": "code",
   "execution_count": 1,
   "metadata": {},
   "outputs": [],
   "source": [
    "arr = [10, 20, 20, 20, 4, 40, 22, 12, 34, 76, 123, 55]"
   ]
  },
  {
   "cell_type": "code",
   "execution_count": 2,
   "metadata": {},
   "outputs": [
    {
     "name": "stdout",
     "output_type": "stream",
     "text": [
      "76\n"
     ]
    }
   ],
   "source": [
    "# 1. Write a Python program to find the second largest element in a list.\n",
    "\n",
    "def second_largest_element(arr):\n",
    "    max_element = float('-inf')\n",
    "    second_max_element = float('-inf')    \n",
    "    for num in arr:\n",
    "        if num > max_element:\n",
    "            second_max_element = max_element\n",
    "            max_element = num\n",
    "        elif num > second_max_element and num < max_element:\n",
    "            second_max_element = num\n",
    "    \n",
    "    return second_max_element\n",
    "print(second_largest_element(arr))  # 10"
   ]
  },
  {
   "cell_type": "code",
   "execution_count": 3,
   "metadata": {},
   "outputs": [
    {
     "name": "stdout",
     "output_type": "stream",
     "text": [
      "36.333333333333336\n"
     ]
    }
   ],
   "source": [
    "# 2. Write a Python program to calculate the average of numbers in a list.\n",
    "average = sum(arr) / len(arr)\n",
    "print(average)"
   ]
  },
  {
   "cell_type": "code",
   "execution_count": 4,
   "metadata": {},
   "outputs": [
    {
     "name": "stdout",
     "output_type": "stream",
     "text": [
      "True\n"
     ]
    }
   ],
   "source": [
    "# 3. Write a Python program to check if two lists are identical (contain the same elements in the same order).\n",
    "\n",
    "def check_identical(arr1, arr2):\n",
    "    return arr1 == arr2\n",
    "print(check_identical([10, 20, 20, 20, 4, 40, 22, 12, 34, 76, 123, 55], [10, 20, 20, 20, 4, 40, 22, 12, 34, 76, 123, 55]))  # True\n"
   ]
  },
  {
   "cell_type": "code",
   "execution_count": 5,
   "metadata": {},
   "outputs": [
    {
     "name": "stdout",
     "output_type": "stream",
     "text": [
      "Rotated list: [12, 34, 76, 123, 55, 10, 20, 20, 20, 4, 40, 22]\n"
     ]
    }
   ],
   "source": [
    "\n",
    "# 4. Write a Python program to rotate a list by k elements to the right.\n",
    "\n",
    "def rotate_list(arr, k):\n",
    "    # Rotate the list by k elements to the right\n",
    "    k = k % len(arr)  # Ensure k is within the bounds of the list length\n",
    "    return arr[-k:] + arr[:-k]\n",
    "# Example usage\n",
    "k = int(input(\"Enter the value of k: \"))  # number of elements to rotate (here 5 is taken)\n",
    "rotated_list = rotate_list(arr, k)\n",
    "print(\"Rotated list:\", rotated_list)"
   ]
  },
  {
   "cell_type": "code",
   "execution_count": 6,
   "metadata": {},
   "outputs": [
    {
     "name": "stdout",
     "output_type": "stream",
     "text": [
      "Most frequent element: 99\n"
     ]
    }
   ],
   "source": [
    "# 5. Write a Python program to find the most frequent element in a list.\n",
    "\n",
    "def most_frequent(arr):\n",
    "    max_count = -1\n",
    "    most_frequent_element = None\n",
    "    for element in arr:\n",
    "        count = arr.count(element)\n",
    "        if count > max_count:\n",
    "            max_count = count\n",
    "            most_frequent_element = element\n",
    "    return most_frequent_element\n",
    "# Example usage\n",
    "arr = [55, 66, 77, 88, 99, 99]\n",
    "print(\"Most frequent element:\", most_frequent(arr))"
   ]
  },
  {
   "cell_type": "code",
   "execution_count": 7,
   "metadata": {},
   "outputs": [
    {
     "name": "stdout",
     "output_type": "stream",
     "text": [
      "Common elements: [4, 5]\n"
     ]
    }
   ],
   "source": [
    "# 6. Write a Python program to find common elements in two lists.\n",
    "\n",
    "def common_elements(list1, list2):\n",
    "    return [element for element in list1 if element in list2]\n",
    "# Example usage\n",
    "list1 = [1, 2, 3, 4, 5]\n",
    "list2 = [4, 5, 6, 7, 8]\n",
    "print(\"Common elements:\", common_elements(list1, list2))"
   ]
  },
  {
   "cell_type": "code",
   "execution_count": 8,
   "metadata": {},
   "outputs": [
    {
     "name": "stdout",
     "output_type": "stream",
     "text": [
      "Intersection: [2, 3]\n"
     ]
    }
   ],
   "source": [
    "# 7. Write a Python program to find the intersection of multiple lists.\n",
    "\n",
    "def intersection_of_lists(lists):\n",
    "    if not lists:\n",
    "        return []\n",
    "    intersection = lists[0]\n",
    "    for lst in lists[1:]:\n",
    "        intersection = [element for element in intersection if element in lst]\n",
    "    return intersection\n",
    "# Example usage\n",
    "lists = [[1, 2, 3], [2, 3, 4], [2, 3, 5]]\n",
    "print(\"Intersection:\", intersection_of_lists(lists))"
   ]
  },
  {
   "cell_type": "code",
   "execution_count": 9,
   "metadata": {},
   "outputs": [
    {
     "name": "stdout",
     "output_type": "stream",
     "text": [
      "List after removing duplicates: [1, 3, 5, 7, 8]\n"
     ]
    }
   ],
   "source": [
    "# 8. Write a Python program to remove duplicates from a list while maintaining the original order.\n",
    "\n",
    "def remove_duplicates(lst):\n",
    "    seen = []\n",
    "    result = []\n",
    "    for element in lst:\n",
    "        if element not in seen:\n",
    "            seen.append(element)\n",
    "            result.append(element)\n",
    "    return result\n",
    "# Example usage\n",
    "lst = [1, 3, 3, 5, 7, 8, 8]\n",
    "print(\"List after removing duplicates:\", remove_duplicates(lst))"
   ]
  },
  {
   "cell_type": "code",
   "execution_count": 10,
   "metadata": {},
   "outputs": [
    {
     "name": "stdout",
     "output_type": "stream",
     "text": [
      "Duplicate elements: [2, 3]\n"
     ]
    }
   ],
   "source": [
    "# 9. Write a Python Program to find the duplicate elements in a list\n",
    "\n",
    "def find_duplicates(lst):\n",
    "    counts = {}\n",
    "    duplicates = []\n",
    "    for element in lst:\n",
    "        if element in counts:\n",
    "            counts[element] += 1\n",
    "            if counts[element] == 2:\n",
    "                duplicates.append(element)\n",
    "        else:\n",
    "            counts[element] = 1\n",
    "    return duplicates\n",
    "# Example usage\n",
    "lst = [1, 2, 2, 3, 3, 3, 4]\n",
    "print(\"Duplicate elements:\", find_duplicates(lst))"
   ]
  },
  {
   "cell_type": "code",
   "execution_count": 11,
   "metadata": {},
   "outputs": [
    {
     "name": "stdout",
     "output_type": "stream",
     "text": [
      "List of squares: [1, 4, 9, 16, 25]\n"
     ]
    }
   ],
   "source": [
    "# 10. Write a Python program to generate a list of squares of numbers from 1 to n.\n",
    "\n",
    "def generate_squares(n):\n",
    "    return [i**2 for i in range(1, n+1)]\n",
    "# Example usage\n",
    "n = int(input(\"Enter the value of n: \")) # 5\n",
    "print(\"List of squares:\", generate_squares(n))"
   ]
  },
  {
   "cell_type": "code",
   "execution_count": 12,
   "metadata": {},
   "outputs": [
    {
     "name": "stdout",
     "output_type": "stream",
     "text": [
      "Sum of even numbers: 12\n"
     ]
    }
   ],
   "source": [
    "# 11. Write a Python program to find the sum of all even numbers in a list.\n",
    "\n",
    "def sum_of_even_numbers(lst):\n",
    "    return sum([num for num in lst if num % 2 == 0])\n",
    "# Example usage\n",
    "lst = [1, 2, 3, 4, 5, 6]\n",
    "print(\"Sum of even numbers:\", sum_of_even_numbers(lst))"
   ]
  },
  {
   "cell_type": "code",
   "execution_count": 13,
   "metadata": {},
   "outputs": [
    {
     "name": "stdout",
     "output_type": "stream",
     "text": [
      "Converted string: hello\n"
     ]
    }
   ],
   "source": [
    "# 12. Write a Python program to convert a list of characters into a single string.\n",
    "\n",
    "def list_to_string(lst):\n",
    "    return ''.join(lst)\n",
    "\n",
    "# Example usage\n",
    "lst = list(input(\"Enter the string: \")) # hello\n",
    "print(\"Converted string:\", list_to_string(lst))"
   ]
  },
  {
   "cell_type": "code",
   "execution_count": 14,
   "metadata": {},
   "outputs": [
    {
     "name": "stdout",
     "output_type": "stream",
     "text": [
      "Smallest element: 1\n"
     ]
    }
   ],
   "source": [
    "# 13. Write a Python program to find the smallest element in a list.\n",
    "\n",
    "def smallest_element(lst):\n",
    "    if not lst:\n",
    "        return None\n",
    "    smallest = lst[0]\n",
    "    for element in lst:\n",
    "        if element < smallest:\n",
    "            smallest = element\n",
    "    return smallest\n",
    "# Example usage\n",
    "lst = [3, 1, 4, 1, 5, 9, 2, 6]\n",
    "print(\"Smallest element:\", smallest_element(lst))"
   ]
  },
  {
   "cell_type": "code",
   "execution_count": 15,
   "metadata": {},
   "outputs": [
    {
     "name": "stdout",
     "output_type": "stream",
     "text": [
      "Reversed list: [5, 4, 3, 2, 1]\n"
     ]
    }
   ],
   "source": [
    "# 14. Write a Python program to reverse a list.\n",
    "\n",
    "def reverse_list(lst):\n",
    "    return lst[::-1]\n",
    "# Example usage\n",
    "lst = [1, 2, 3, 4, 5]\n",
    "print(\"Reversed list:\", reverse_list(lst))"
   ]
  },
  {
   "cell_type": "code",
   "execution_count": 16,
   "metadata": {},
   "outputs": [
    {
     "name": "stdout",
     "output_type": "stream",
     "text": [
      "Union of lists: [1, 2, 3, 4, 5]\n"
     ]
    }
   ],
   "source": [
    "# 15. Write a Python program to find the union of two lists.\n",
    "\n",
    "def union_of_lists(list1, list2):\n",
    "    union = list1[:]\n",
    "    for element in list2:\n",
    "        if element not in union:\n",
    "            union.append(element)\n",
    "    return union\n",
    "# Example usage\n",
    "list1 = [1, 2, 3]\n",
    "list2 = [3, 4, 5]\n",
    "print(\"Union of lists:\", union_of_lists(list1, list2))"
   ]
  },
  {
   "cell_type": "code",
   "execution_count": 17,
   "metadata": {},
   "outputs": [
    {
     "name": "stdout",
     "output_type": "stream",
     "text": [
      "Element 'banana' exists in the list: True\n"
     ]
    }
   ],
   "source": [
    "# 16. Check if the element 'banana' exists in the list l = ['apple', 'banana', 'cherry'].\n",
    "\n",
    "def element_exists(lst, element):\n",
    "    return element in lst\n",
    "# Example usage\n",
    "lst = ['apple', 'banana', 'cherry']\n",
    "element = 'banana'\n",
    "print(f\"Element '{element}' exists in the list:\", element_exists(lst, element))"
   ]
  },
  {
   "cell_type": "code",
   "execution_count": 18,
   "metadata": {},
   "outputs": [
    {
     "name": "stdout",
     "output_type": "stream",
     "text": [
      "Sorted list in ascending order: [1, 1, 2, 3, 4, 5, 6, 9]\n",
      "Sorted list in descending order: [9, 6, 5, 4, 3, 2, 1, 1]\n"
     ]
    }
   ],
   "source": [
    "# 17. Sort the list l = [3, 1, 4, 1, 5, 9, 2, 6] in ascending order and print the sorted list.\n",
    "\n",
    "def sort_list_ascending(lst):\n",
    "    return sorted(lst)\n",
    "\n",
    "def sort_list_descending(lst):\n",
    "    return sorted(lst, reverse=True)\n",
    "# Example usage\n",
    "lst = [3, 1, 4, 1, 5, 9, 2, 6]\n",
    "print(\"Sorted list in ascending order:\", sort_list_ascending(lst))\n",
    "print(\"Sorted list in descending order:\", sort_list_descending(lst))"
   ]
  },
  {
   "cell_type": "code",
   "execution_count": 19,
   "metadata": {},
   "outputs": [
    {
     "name": "stdout",
     "output_type": "stream",
     "text": [
      "Converted tuple: (1, 2, 3)\n",
      "Converted list: [4, 5, 6]\n"
     ]
    }
   ],
   "source": [
    "# 18. Convert the list l = [1, 2, 3] into a tuple t and convert the tuple t = (4, 5, 6) into a list. Print both.\n",
    "\n",
    "def list_to_tuple(lst):\n",
    "    return tuple(lst)\n",
    "\n",
    "def tuple_to_list(tpl):\n",
    "    return list(tpl)\n",
    "# Example usage\n",
    "lst = [1, 2, 3]\n",
    "tpl = (4, 5, 6)\n",
    "print(\"Converted tuple:\", list_to_tuple(lst))\n",
    "print(\"Converted list:\", tuple_to_list(tpl))"
   ]
  },
  {
   "cell_type": "code",
   "execution_count": 20,
   "metadata": {},
   "outputs": [
    {
     "name": "stdout",
     "output_type": "stream",
     "text": [
      "Concatenated list: [1, 2, 3, 4, 5, 6]\n"
     ]
    }
   ],
   "source": [
    "# 19. Create two lists l1 with elements [1, 2, 3] and l2 with elements [4, 5, 6]. Concatenate them into a single list l3 and print l3.\n",
    "\n",
    "def concatenate_lists(l1, l2):\n",
    "    return l1 + l2\n",
    "# Example usage\n",
    "l1 = [1, 2, 3]\n",
    "l2 = [4, 5, 6]\n",
    "print(\"Concatenated list:\", concatenate_lists(l1, l2))"
   ]
  },
  {
   "cell_type": "code",
   "execution_count": 21,
   "metadata": {},
   "outputs": [
    {
     "name": "stdout",
     "output_type": "stream",
     "text": [
      "Index of element 'banana': 1\n"
     ]
    }
   ],
   "source": [
    "# 20. Create a list l = ['apple', 'banana', 'cherry']. Find the index of the element 'banana'.\n",
    "\n",
    "def find_index(lst, element):\n",
    "    for i, e in enumerate(lst):\n",
    "        if e == element:\n",
    "            return i\n",
    "    return -1\n",
    "# Example usage\n",
    "lst = ['apple', 'banana', 'cherry']\n",
    "element = 'banana'\n",
    "print(f\"Index of element '{element}':\", find_index(lst, element))"
   ]
  },
  {
   "cell_type": "code",
   "execution_count": 22,
   "metadata": {},
   "outputs": [
    {
     "name": "stdout",
     "output_type": "stream",
     "text": [
      "List of words: ['hello', 'world']\n"
     ]
    }
   ],
   "source": [
    "# 21. Write a Python program to split the string \"hello world\" into a list of words.\n",
    "\n",
    "def split_string(s):\n",
    "    return s.split()\n",
    "# Example usage\n",
    "s = \"hello world\"\n",
    "print(\"List of words:\", split_string(s))"
   ]
  },
  {
   "cell_type": "code",
   "execution_count": 23,
   "metadata": {},
   "outputs": [
    {
     "name": "stdout",
     "output_type": "stream",
     "text": [
      "Joined string: hello world\n"
     ]
    }
   ],
   "source": [
    "# 22. Write a Python program to join the list ['hello', 'world'] into a single string with spaces.\n",
    "\n",
    "def join_list(lst):\n",
    "    return ' '.join(lst)\n",
    "# Example usage\n",
    "lst = ['hello', 'world']\n",
    "print(\"Joined string:\", join_list(lst))"
   ]
  }
 ],
 "metadata": {
  "kernelspec": {
   "display_name": "Python 3 (ipykernel)",
   "language": "python",
   "name": "python3"
  },
  "language_info": {
   "codemirror_mode": {
    "name": "ipython",
    "version": 3
   },
   "file_extension": ".py",
   "mimetype": "text/x-python",
   "name": "python",
   "nbconvert_exporter": "python",
   "pygments_lexer": "ipython3",
   "version": "3.12.3"
  }
 },
 "nbformat": 4,
 "nbformat_minor": 4
}
