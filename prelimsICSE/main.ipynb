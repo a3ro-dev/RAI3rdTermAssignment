{
 "cells": [
  {
   "cell_type": "code",
   "execution_count": 1,
   "metadata": {},
   "outputs": [
    {
     "data": {
      "image/png": "[encoded data removed]",
      "text/plain": [
       "<Figure size 400x200 with 1 Axes>"
      ]
     },
     "metadata": {},
     "output_type": "display_data"
    }
   ],
   "source": [
    "\"\"\"QUESTION 3 (iii)\"\"\"\n",
    "import matplotlib.pyplot as plt\n",
    "\n",
    "# Create a list of x values\n",
    "x = [1, 2, 3, 4, 5]\n",
    "\n",
    "# Create a list of y values\n",
    "y = [2,4,6,8,10]\n",
    "plt.figure(figsize=(4, 2)) # not necessary as per question\n",
    "plt.xlabel(\"X AXIS\")\n",
    "plt.ylabel(\"Y AXIS\")\n",
    "plt.title(\"QUESTION 3, iii, SECTION B\")\n",
    "plt.plot(x, y)\n",
    "plt.show()\n",
    "# Completed\n"
   ]
  },
  {
   "cell_type": "code",
   "execution_count": 2,
   "metadata": {},
   "outputs": [
    {
     "name": "stdout",
     "output_type": "stream",
     "text": [
      "Prime number\n",
      "Not a prime number\n"
     ]
    }
   ],
   "source": [
    "\"\"\"QUESTION 4 (iii)\"\"\"\n",
    "def isPrime(n):\n",
    "    if n % 2 == 0 or n % 3 == 0:\n",
    "        return \"Not a prime number\"\n",
    "    else:\n",
    "        return \"Prime number\"\n",
    "print(isPrime(13))\n",
    "print(isPrime(12))\n",
    "# Completed"
   ]
  },
  {
   "cell_type": "code",
   "execution_count": 3,
   "metadata": {},
   "outputs": [
    {
     "name": "stdout",
     "output_type": "stream",
     "text": [
      "23\n",
      "Fine to be paid: ₹115.0\n"
     ]
    }
   ],
   "source": [
    "\"\"\"QUESTION 5 (iii)\"\"\"\n",
    "def calcFine(days: int, baseFine: int = 2.5) -> int:\n",
    "    if days <= 10:\n",
    "        return 1*days\n",
    "    elif days <=20:\n",
    "        return days*baseFine\n",
    "    elif days >=20:\n",
    "        return 2*baseFine*days\n",
    "    \n",
    "numDays = int(input(\"Enter the number of days book was returned late: \"))\n",
    "print(numDays)\n",
    "print(f\"Fine to be paid: ₹{calcFine(numDays)}\")\n",
    "# Completed"
   ]
  },
  {
   "cell_type": "code",
   "execution_count": 4,
   "metadata": {},
   "outputs": [
    {
     "name": "stdout",
     "output_type": "stream",
     "text": [
      "Index of 30: 3\n",
      "List of integers: [10, 20, 25, 30, 40, 50, 60]\n"
     ]
    }
   ],
   "source": [
    "\"\"\"QUESTION 6 (iii)\"\"\"\n",
    "ListOfIntegers: list = [10, 20, 30, 40, 50]\n",
    "ListOfIntegers.append(60)\n",
    "ListOfIntegers.insert(2, 25) # inserts 25 at index 2\n",
    "ListOfIntegers.sort()\n",
    "print(f\"Index of 30: {ListOfIntegers.index(30)}\")\n",
    "print(f\"List of integers: {ListOfIntegers}\")\n",
    "# Completed"
   ]
  },
  {
   "cell_type": "code",
   "execution_count": 5,
   "metadata": {},
   "outputs": [
    {
     "name": "stdout",
     "output_type": "stream",
     "text": [
      "Element at index 2: 15\n",
      "Final Tuple: (5, 10, 15, 20, 25, 30)\n"
     ]
    }
   ],
   "source": [
    "\"\"\"QUESTION 7 (iii)\"\"\"\n",
    "TupleOfIntegers: tuple = (5, 10, 15, 20, 25)\n",
    "print(f\"Element at index 2: {TupleOfIntegers[2]}\")\n",
    "ListFromTuple: list = list(TupleOfIntegers)\n",
    "ListFromTuple.append(30)\n",
    "TupleFromList: tuple = tuple(ListFromTuple)\n",
    "print(f\"Final Tuple: {TupleFromList}\")\n",
    "# Completed"
   ]
  },
  {
   "cell_type": "code",
   "execution_count": 6,
   "metadata": {},
   "outputs": [
    {
     "name": "stdout",
     "output_type": "stream",
     "text": [
      "Uppercase String: ARTIFICIAL INTELLIGENCE\n",
      "Position of substring 'Intelligence': 11\n",
      "String after replacing 'Artificial' with 'Machine': Machine Intelligence\n",
      "Check if String startswith 'Machine': False\n",
      "Number of occurences of the letter 'i': 5\n"
     ]
    }
   ],
   "source": [
    "\"\"\"QUESTION 8 (iii)\"\"\"\n",
    "aiStr: str = \"Artificial Intelligence\"\n",
    "print(f\"Uppercase String: {aiStr.upper()}\")\n",
    "print(f\"Position of substring 'Intelligence': {aiStr.lower().find('InTeLliGenCE'.lower())}\")\n",
    "print(f\"String after replacing 'Artificial' with 'Machine': {aiStr.replace('Artificial', 'Machine')}\")\n",
    "print(f\"Check if String startswith 'Machine': {aiStr.startswith('Machine')}\")\n",
    "print(f\"Number of occurences of the letter 'i': {aiStr.lower().count('i')}\")\n",
    "# Completed"
   ]
  }
 ],
 "metadata": {
  "kernelspec": {
   "display_name": "Python 3",
   "language": "python",
   "name": "python3"
  },
  "language_info": {
   "codemirror_mode": {
    "name": "ipython",
    "version": 3
   },
   "file_extension": ".py",
   "mimetype": "text/x-python",
   "name": "python",
   "nbconvert_exporter": "python",
   "pygments_lexer": "ipython3",
   "version": "3.13.0"
  }
 },
 "nbformat": 4,
 "nbformat_minor": 2
}
